{
 "cells": [
  {
   "cell_type": "code",
   "execution_count": null,
   "metadata": {},
   "outputs": [],
   "source": [
    "import os\n",
    "import codecs\n",
    "from bs4 import BeautifulSoup\n",
    "from lxml import html\n",
    "import csv\n",
    "import string"
   ]
  },
  {
   "cell_type": "code",
   "execution_count": null,
   "metadata": {},
   "outputs": [],
   "source": [
    "DIRECTORY = r\"subdir to store html files downloaded from Canvas\"\n",
    "KEY = \"string of KEY no space\"\n",
    "SPREADSHEET = \"roster.csv\"\n",
    "ASSIGNMENT = \"assignment name\""
   ]
  },
  {
   "cell_type": "code",
   "execution_count": null,
   "metadata": {},
   "outputs": [],
   "source": [
    "results = {}    # {name: answers} extracted from the html files"
   ]
  },
  {
   "cell_type": "code",
   "execution_count": null,
   "metadata": {},
   "outputs": [],
   "source": [
    "def grading():\n",
    "    \"\"\"\n",
    "    read lines from roster.csv\n",
    "    for each line, extract name, if name exists in 'results' grade and update lines\n",
    "    write lines back to roster with updated scores\n",
    "    \"\"\"\n",
    "    key = []\n",
    "    for c in KEY:\n",
    "        key.append(c)\n",
    "    print(key)\n",
    "    with open(SPREADSHEET, 'r') as readFile:\n",
    "        reader = csv.reader(readFile)\n",
    "        lines = list(reader)\n",
    "        index = lines[0].index(ASSIGNMENT)\n",
    "#         print(lines[2])\n",
    "        \n",
    "        iii = 0\n",
    "        jjj = 0\n",
    "        for j in range(2, len(lines)):\n",
    "            iii += 1\n",
    "            line = lines[j]\n",
    "            name = line[0]\n",
    "            if name in results:\n",
    "                jjj += 1\n",
    "                print(name)\n",
    "                ans = results[name]\n",
    "#                 print(ans)\n",
    "                score = 0\n",
    "                for i in range(len(ans)):\n",
    "                    if ans[i] == key[i]:\n",
    "                        score += 1\n",
    "                line[index] = score\n",
    "        print(jjj + ' out of ' + iii + ' students graded')       \n",
    "##        for l in range(10):\n",
    "##            print(lines[l][index])\n",
    "\n",
    "    with open(SPREADSHEET, 'w', newline = '') as writeFile:\n",
    "        writer = csv.writer(writeFile)\n",
    "        writer.writerows(lines)\n",
    "\n",
    "    print(\"***grading() run successfully***\")\n",
    "\n",
    "    \n",
    "def extract():\n",
    "    path = os.path.dirname(os.path.realpath('__file__'))\n",
    "    path = os.path.join(path, DIRECTORY)\n",
    "    print(path)\n",
    "\n",
    "    iii = 0\n",
    "    for filename in os.listdir(path):\n",
    "##        if iii > 3:\n",
    "##            break\n",
    "##        print iii\n",
    "        iii += 1\n",
    "        \n",
    "        print(filename)\n",
    "        \n",
    "        soup = BeautifulSoup(open(os.path.join(path, filename)), \"html.parser\")\n",
    "        name = soup.find_all(\"h1\")[0]\n",
    "        name = name.get_text().split(':')[-1][1:]\n",
    "##        name = name.split()\n",
    "        print(name)\n",
    "\n",
    "#         fname = \" \".join(name[:-1])\n",
    "#         lname = name[-1]\n",
    "\n",
    "        answers = []\n",
    "        div = soup.find(\"div\")\n",
    "##        print(div.get_text())\n",
    "        for c in div.get_text():\n",
    "            if c in string.ascii_letters:            \n",
    "                answers.append(c.lower())\n",
    "\n",
    "        \n",
    "##        entry = [fname, lname]\n",
    "##        entry += answers\n",
    "##        print(entry)\n",
    "\n",
    "        results[name] = answers\n",
    "\n",
    "    print(iii + ' students submitted ' + ASSIGNMENT)"
   ]
  },
  {
   "cell_type": "code",
   "execution_count": null,
   "metadata": {
    "scrolled": true
   },
   "outputs": [],
   "source": [
    "extract()\n",
    "\n",
    "print(\"###############\")\n",
    "grading()"
   ]
  },
  {
   "cell_type": "code",
   "execution_count": null,
   "metadata": {},
   "outputs": [],
   "source": []
  }
 ],
 "metadata": {
  "kernelspec": {
   "display_name": "Python 3",
   "language": "python",
   "name": "python3"
  },
  "language_info": {
   "codemirror_mode": {
    "name": "ipython",
    "version": 3
   },
   "file_extension": ".py",
   "mimetype": "text/x-python",
   "name": "python",
   "nbconvert_exporter": "python",
   "pygments_lexer": "ipython3",
   "version": "3.7.3"
  }
 },
 "nbformat": 4,
 "nbformat_minor": 2
}
